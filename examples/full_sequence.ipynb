{
 "cells": [
  {
   "cell_type": "code",
   "execution_count": 110,
   "metadata": {},
   "outputs": [
    {
     "name": "stdout",
     "output_type": "stream",
     "text": [
      "The autoreload extension is already loaded. To reload it, use:\n",
      "  %reload_ext autoreload\n"
     ]
    }
   ],
   "source": [
    "import pandas as pd\n",
    "import numpy as np\n",
    "import matplotlib.pyplot as plt\n",
    "import seaborn as sns\n",
    "import yfinance as yf\n",
    "\n",
    "import PortOpt.invariants as invs\n",
    "import PortOpt.moment_est as moments\n",
    "from PortOpt.opt_allocations import Optimiser\n",
    "\n",
    "%matplotlib inline\n",
    "%load_ext autoreload\n",
    "%autoreload 2"
   ]
  },
  {
   "cell_type": "markdown",
   "metadata": {},
   "source": [
    "### Load in Data"
   ]
  },
  {
   "cell_type": "code",
   "execution_count": 27,
   "metadata": {},
   "outputs": [],
   "source": [
    "def get_data(tickers, interval, start, end):\n",
    "    full_prices = pd.DataFrame()\n",
    "    for i in tickers:\n",
    "        df = yf.download(i, interval=interval, start=start, end=end)['Adj Close']\n",
    "        print(f'{i} data downloaded...')\n",
    "\n",
    "        full_prices = pd.concat([full_prices, df], axis=1, sort=False)\n",
    "\n",
    "    full_prices.columns = tickers\n",
    "      \n",
    "    return full_prices"
   ]
  },
  {
   "cell_type": "code",
   "execution_count": 28,
   "metadata": {},
   "outputs": [
    {
     "name": "stdout",
     "output_type": "stream",
     "text": [
      "[*********************100%***********************]  1 of 1 completed\n",
      "AAPL data downloaded...\n",
      "[*********************100%***********************]  1 of 1 completed\n",
      "MSFT data downloaded...\n",
      "[*********************100%***********************]  1 of 1 completed\n",
      "CVX data downloaded...\n",
      "[*********************100%***********************]  1 of 1 completed\n",
      "GE data downloaded...\n",
      "[*********************100%***********************]  1 of 1 completed\n",
      "GOOGL data downloaded...\n"
     ]
    }
   ],
   "source": [
    "tickers = ['AAPL', 'MSFT', 'CVX', 'GE', 'GOOGL']\n",
    "\n",
    "stock_data = get_data(tickers, '1d', '2015-01-01', '2021-01-01')"
   ]
  },
  {
   "cell_type": "markdown",
   "metadata": {},
   "source": [
    "### Get Expected Returns"
   ]
  },
  {
   "cell_type": "code",
   "execution_count": 29,
   "metadata": {},
   "outputs": [
    {
     "data": {
      "text/html": [
       "<div>\n",
       "<style scoped>\n",
       "    .dataframe tbody tr th:only-of-type {\n",
       "        vertical-align: middle;\n",
       "    }\n",
       "\n",
       "    .dataframe tbody tr th {\n",
       "        vertical-align: top;\n",
       "    }\n",
       "\n",
       "    .dataframe thead th {\n",
       "        text-align: right;\n",
       "    }\n",
       "</style>\n",
       "<table border=\"1\" class=\"dataframe\">\n",
       "  <thead>\n",
       "    <tr style=\"text-align: right;\">\n",
       "      <th></th>\n",
       "      <th>AAPL</th>\n",
       "      <th>MSFT</th>\n",
       "      <th>CVX</th>\n",
       "      <th>GE</th>\n",
       "      <th>GOOGL</th>\n",
       "    </tr>\n",
       "  </thead>\n",
       "  <tbody>\n",
       "    <tr>\n",
       "      <th>2014-12-31 00:00:00</th>\n",
       "      <td>-0.009558</td>\n",
       "      <td>0.006651</td>\n",
       "      <td>0.003559</td>\n",
       "      <td>-0.008345</td>\n",
       "      <td>-0.002094</td>\n",
       "    </tr>\n",
       "    <tr>\n",
       "      <th>2015-01-02 00:00:00</th>\n",
       "      <td>-0.028576</td>\n",
       "      <td>-0.009238</td>\n",
       "      <td>-0.040792</td>\n",
       "      <td>-0.018527</td>\n",
       "      <td>-0.019238</td>\n",
       "    </tr>\n",
       "    <tr>\n",
       "      <th>2015-01-05 00:00:00</th>\n",
       "      <td>0.000094</td>\n",
       "      <td>-0.014786</td>\n",
       "      <td>-0.000463</td>\n",
       "      <td>-0.021780</td>\n",
       "      <td>-0.024989</td>\n",
       "    </tr>\n",
       "    <tr>\n",
       "      <th>2015-01-06 00:00:00</th>\n",
       "      <td>0.013925</td>\n",
       "      <td>0.012625</td>\n",
       "      <td>-0.000833</td>\n",
       "      <td>0.000415</td>\n",
       "      <td>-0.002945</td>\n",
       "    </tr>\n",
       "    <tr>\n",
       "      <th>2015-01-07 00:00:00</th>\n",
       "      <td>0.037702</td>\n",
       "      <td>0.028994</td>\n",
       "      <td>0.022625</td>\n",
       "      <td>0.011971</td>\n",
       "      <td>0.003478</td>\n",
       "    </tr>\n",
       "  </tbody>\n",
       "</table>\n",
       "</div>"
      ],
      "text/plain": [
       "                         AAPL      MSFT       CVX        GE     GOOGL\n",
       "2014-12-31 00:00:00 -0.009558  0.006651  0.003559 -0.008345 -0.002094\n",
       "2015-01-02 00:00:00 -0.028576 -0.009238 -0.040792 -0.018527 -0.019238\n",
       "2015-01-05 00:00:00  0.000094 -0.014786 -0.000463 -0.021780 -0.024989\n",
       "2015-01-06 00:00:00  0.013925  0.012625 -0.000833  0.000415 -0.002945\n",
       "2015-01-07 00:00:00  0.037702  0.028994  0.022625  0.011971  0.003478"
      ]
     },
     "execution_count": 29,
     "metadata": {},
     "output_type": "execute_result"
    }
   ],
   "source": [
    "stock_returns = invs.stock_invariants(stock_data)\n",
    "stock_returns.head()"
   ]
  },
  {
   "cell_type": "code",
   "execution_count": 59,
   "metadata": {},
   "outputs": [
    {
     "data": {
      "text/plain": [
       "AAPL     0.277458\n",
       "MSFT     0.280950\n",
       "CVX     -0.004048\n",
       "GE      -0.112725\n",
       "GOOGL    0.199258\n",
       "dtype: float64"
      ]
     },
     "execution_count": 59,
     "metadata": {},
     "output_type": "execute_result"
    }
   ],
   "source": [
    "exp_returns = stock_returns.mean() * 252\n",
    "exp_returns"
   ]
  },
  {
   "cell_type": "markdown",
   "metadata": {},
   "source": [
    "### Get Covariance Matrix"
   ]
  },
  {
   "cell_type": "code",
   "execution_count": 31,
   "metadata": {},
   "outputs": [
    {
     "data": {
      "text/html": [
       "<div>\n",
       "<style scoped>\n",
       "    .dataframe tbody tr th:only-of-type {\n",
       "        vertical-align: middle;\n",
       "    }\n",
       "\n",
       "    .dataframe tbody tr th {\n",
       "        vertical-align: top;\n",
       "    }\n",
       "\n",
       "    .dataframe thead th {\n",
       "        text-align: right;\n",
       "    }\n",
       "</style>\n",
       "<table border=\"1\" class=\"dataframe\">\n",
       "  <thead>\n",
       "    <tr style=\"text-align: right;\">\n",
       "      <th></th>\n",
       "      <th>AAPL</th>\n",
       "      <th>MSFT</th>\n",
       "      <th>CVX</th>\n",
       "      <th>GE</th>\n",
       "      <th>GOOGL</th>\n",
       "    </tr>\n",
       "  </thead>\n",
       "  <tbody>\n",
       "    <tr>\n",
       "      <th>AAPL</th>\n",
       "      <td>0.153987</td>\n",
       "      <td>0.097490</td>\n",
       "      <td>0.048077</td>\n",
       "      <td>0.030008</td>\n",
       "      <td>0.075093</td>\n",
       "    </tr>\n",
       "    <tr>\n",
       "      <th>MSFT</th>\n",
       "      <td>0.097490</td>\n",
       "      <td>0.109694</td>\n",
       "      <td>0.051199</td>\n",
       "      <td>0.033677</td>\n",
       "      <td>0.081058</td>\n",
       "    </tr>\n",
       "    <tr>\n",
       "      <th>CVX</th>\n",
       "      <td>0.048077</td>\n",
       "      <td>0.051199</td>\n",
       "      <td>0.223468</td>\n",
       "      <td>0.152176</td>\n",
       "      <td>0.063097</td>\n",
       "    </tr>\n",
       "    <tr>\n",
       "      <th>GE</th>\n",
       "      <td>0.030008</td>\n",
       "      <td>0.033677</td>\n",
       "      <td>0.152176</td>\n",
       "      <td>0.252910</td>\n",
       "      <td>0.045842</td>\n",
       "    </tr>\n",
       "    <tr>\n",
       "      <th>GOOGL</th>\n",
       "      <td>0.075093</td>\n",
       "      <td>0.081058</td>\n",
       "      <td>0.063097</td>\n",
       "      <td>0.045842</td>\n",
       "      <td>0.095350</td>\n",
       "    </tr>\n",
       "  </tbody>\n",
       "</table>\n",
       "</div>"
      ],
      "text/plain": [
       "           AAPL      MSFT       CVX        GE     GOOGL\n",
       "AAPL   0.153987  0.097490  0.048077  0.030008  0.075093\n",
       "MSFT   0.097490  0.109694  0.051199  0.033677  0.081058\n",
       "CVX    0.048077  0.051199  0.223468  0.152176  0.063097\n",
       "GE     0.030008  0.033677  0.152176  0.252910  0.045842\n",
       "GOOGL  0.075093  0.081058  0.063097  0.045842  0.095350"
      ]
     },
     "execution_count": 31,
     "metadata": {},
     "output_type": "execute_result"
    }
   ],
   "source": [
    "stock_cov = moments.exp_cov(stock_returns)\n",
    "stock_cov"
   ]
  },
  {
   "cell_type": "markdown",
   "metadata": {},
   "source": [
    "### Solve Optimisation Problem"
   ]
  },
  {
   "cell_type": "code",
   "execution_count": 113,
   "metadata": {},
   "outputs": [
    {
     "name": "stdout",
     "output_type": "stream",
     "text": [
      "===============================================================================\n",
      "                                     CVXPY                                     \n",
      "                                    v1.1.15                                    \n",
      "===============================================================================\n",
      "(CVXPY) Sep 29 12:26:52 AM: Your problem has 6 variables, 4 constraints, and 0 parameters.\n",
      "(CVXPY) Sep 29 12:26:52 AM: It is compliant with the following grammars: DCP, DQCP\n",
      "(CVXPY) Sep 29 12:26:52 AM: (If you need to solve this problem multiple times, but with different data, consider using parameters.)\n",
      "(CVXPY) Sep 29 12:26:52 AM: CVXPY will first compile your problem; then, it will invoke a numerical solver to obtain a solution.\n",
      "-------------------------------------------------------------------------------\n",
      "                                  Compilation                                  \n",
      "-------------------------------------------------------------------------------\n",
      "(CVXPY) Sep 29 12:26:52 AM: Compiling problem (target solver=OSQP).\n",
      "(CVXPY) Sep 29 12:26:52 AM: Reduction chain: CvxAttr2Constr -> Qp2SymbolicQp -> QpMatrixStuffing -> OSQP\n",
      "(CVXPY) Sep 29 12:26:52 AM: Applying reduction CvxAttr2Constr\n",
      "(CVXPY) Sep 29 12:26:52 AM: Applying reduction Qp2SymbolicQp\n",
      "(CVXPY) Sep 29 12:26:52 AM: Applying reduction QpMatrixStuffing\n",
      "(CVXPY) Sep 29 12:26:52 AM: Applying reduction OSQP\n",
      "(CVXPY) Sep 29 12:26:52 AM: Finished problem compilation (took 1.048e-02 seconds).\n",
      "-------------------------------------------------------------------------------\n",
      "                                Numerical solver                               \n",
      "-------------------------------------------------------------------------------\n",
      "(CVXPY) Sep 29 12:26:52 AM: Invoking solver OSQP  to obtain a solution.\n",
      "-----------------------------------------------------------------\n",
      "           OSQP v0.6.2  -  Operator Splitting QP Solver\n",
      "              (c) Bartolomeo Stellato,  Goran Banjac\n",
      "        University of Oxford  -  Stanford University 2021\n",
      "-----------------------------------------------------------------\n",
      "problem:  variables n = 6, constraints m = 8\n",
      "          nnz(P) + nnz(A) = 32\n",
      "settings: linear system solver = qdldl,\n",
      "          eps_abs = 1.0e-05, eps_rel = 1.0e-05,\n",
      "          eps_prim_inf = 1.0e-04, eps_dual_inf = 1.0e-04,\n",
      "          rho = 1.00e-01 (adaptive),\n",
      "          sigma = 1.00e-06, alpha = 1.60, max_iter = 10000\n",
      "          check_termination: on (interval 25),\n",
      "          scaling: on, scaled_termination: off\n",
      "          warm start: on, polish: on, time_limit: off\n",
      "\n",
      "iter   objective    pri res    dua res    rho        time\n",
      "   1   0.0000e+00   1.00e+00   3.82e+02   1.00e-01   4.92e-05s\n",
      "  75   1.5862e+00   1.25e-06   3.40e-08   1.00e-01   9.99e-05s\n",
      "plsh   1.5862e+00   1.78e-22   2.22e-16   --------   2.69e-04s\n",
      "\n",
      "status:               solved\n",
      "solution polish:      successful\n",
      "number of iterations: 75\n",
      "optimal objective:    1.5862\n",
      "run time:             2.69e-04s\n",
      "optimal rho estimate: 2.81e-01\n",
      "\n",
      "-------------------------------------------------------------------------------\n",
      "                                    Summary                                    \n",
      "-------------------------------------------------------------------------------\n",
      "(CVXPY) Sep 29 12:26:52 AM: Problem status: optimal\n",
      "(CVXPY) Sep 29 12:26:52 AM: Optimal value: 1.586e+00\n",
      "(CVXPY) Sep 29 12:26:52 AM: Compilation took 1.048e-02 seconds\n",
      "(CVXPY) Sep 29 12:26:52 AM: Solver (including time spent in interface) took 2.000e-03 seconds\n"
     ]
    },
    {
     "data": {
      "text/plain": [
       "AAPL     1.566419e-01\n",
       "MSFT     8.433581e-01\n",
       "CVX     -5.993091e-24\n",
       "GE       4.644015e-23\n",
       "GOOGL   -3.322861e-23\n",
       "dtype: float64"
      ]
     },
     "execution_count": 113,
     "metadata": {},
     "output_type": "execute_result"
    }
   ],
   "source": [
    "optimiser = Optimiser(tickers, exp_returns, stock_cov)\n",
    "# optimiser.mean_variance(threshold=0.1)\n",
    "weights = optimiser.max_sharpe()\n",
    "\n",
    "# min_pos = lambda x: x >= 0.1*np.ones(len(tickers))\n",
    "# optimiser.add_constraint(min_pos)\n",
    "\n",
    "# weights = optimiser.solve(objective='max_sharpe')\n",
    "weights"
   ]
  },
  {
   "cell_type": "code",
   "execution_count": null,
   "metadata": {},
   "outputs": [],
   "source": []
  }
 ],
 "metadata": {
  "kernelspec": {
   "display_name": "Python 3 (ipykernel)",
   "language": "python",
   "name": "python3"
  },
  "language_info": {
   "codemirror_mode": {
    "name": "ipython",
    "version": 3
   },
   "file_extension": ".py",
   "mimetype": "text/x-python",
   "name": "python",
   "nbconvert_exporter": "python",
   "pygments_lexer": "ipython3",
   "version": "3.9.7"
  }
 },
 "nbformat": 4,
 "nbformat_minor": 4
}
