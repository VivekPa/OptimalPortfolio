{
 "cells": [
  {
   "cell_type": "code",
   "execution_count": 13,
   "metadata": {},
   "outputs": [
    {
     "name": "stdout",
     "output_type": "stream",
     "text": [
      "The autoreload extension is already loaded. To reload it, use:\n",
      "  %reload_ext autoreload\n"
     ]
    }
   ],
   "source": [
    "import pandas as pd\n",
    "import numpy as np\n",
    "import matplotlib.pyplot as plt\n",
    "import seaborn as sns\n",
    "import yfinance as yf\n",
    "\n",
    "import PortOpt.invariants as invs\n",
    "import PortOpt.moment_est as moments\n",
    "from PortOpt.opt_allocations import Optimiser\n",
    "import PortOpt.utility_functions as utils\n",
    "\n",
    "%matplotlib inline\n",
    "%load_ext autoreload\n",
    "%autoreload 2"
   ]
  },
  {
   "cell_type": "markdown",
   "metadata": {},
   "source": [
    "### Load in Data"
   ]
  },
  {
   "cell_type": "code",
   "execution_count": 3,
   "metadata": {},
   "outputs": [
    {
     "name": "stdout",
     "output_type": "stream",
     "text": [
      "[*********************100%***********************]  1 of 1 completed\n",
      "AAPL data downloaded...\n",
      "[*********************100%***********************]  1 of 1 completed\n",
      "MSFT data downloaded...\n",
      "[*********************100%***********************]  1 of 1 completed\n",
      "CVX data downloaded...\n",
      "[*********************100%***********************]  1 of 1 completed\n",
      "GE data downloaded...\n",
      "[*********************100%***********************]  1 of 1 completed\n",
      "GOOGL data downloaded...\n"
     ]
    }
   ],
   "source": [
    "tickers = ['AAPL', 'MSFT', 'CVX', 'GE', 'GOOGL']\n",
    "\n",
    "stock_data = utils.get_data(tickers, '1d', '2015-01-01', '2021-01-01')"
   ]
  },
  {
   "cell_type": "markdown",
   "metadata": {},
   "source": [
    "### Get Expected Returns"
   ]
  },
  {
   "cell_type": "code",
   "execution_count": 4,
   "metadata": {},
   "outputs": [
    {
     "data": {
      "text/html": [
       "<div>\n",
       "<style scoped>\n",
       "    .dataframe tbody tr th:only-of-type {\n",
       "        vertical-align: middle;\n",
       "    }\n",
       "\n",
       "    .dataframe tbody tr th {\n",
       "        vertical-align: top;\n",
       "    }\n",
       "\n",
       "    .dataframe thead th {\n",
       "        text-align: right;\n",
       "    }\n",
       "</style>\n",
       "<table border=\"1\" class=\"dataframe\">\n",
       "  <thead>\n",
       "    <tr style=\"text-align: right;\">\n",
       "      <th></th>\n",
       "      <th>AAPL</th>\n",
       "      <th>MSFT</th>\n",
       "      <th>CVX</th>\n",
       "      <th>GE</th>\n",
       "      <th>GOOGL</th>\n",
       "    </tr>\n",
       "  </thead>\n",
       "  <tbody>\n",
       "    <tr>\n",
       "      <th>2015-01-02 00:00:00</th>\n",
       "      <td>-0.028576</td>\n",
       "      <td>-0.009238</td>\n",
       "      <td>-0.040792</td>\n",
       "      <td>-0.018527</td>\n",
       "      <td>-0.019238</td>\n",
       "    </tr>\n",
       "    <tr>\n",
       "      <th>2015-01-05 00:00:00</th>\n",
       "      <td>0.000094</td>\n",
       "      <td>-0.014786</td>\n",
       "      <td>-0.000463</td>\n",
       "      <td>-0.021780</td>\n",
       "      <td>-0.024989</td>\n",
       "    </tr>\n",
       "    <tr>\n",
       "      <th>2015-01-06 00:00:00</th>\n",
       "      <td>0.013925</td>\n",
       "      <td>0.012625</td>\n",
       "      <td>-0.000834</td>\n",
       "      <td>0.000415</td>\n",
       "      <td>-0.002945</td>\n",
       "    </tr>\n",
       "    <tr>\n",
       "      <th>2015-01-07 00:00:00</th>\n",
       "      <td>0.037702</td>\n",
       "      <td>0.028994</td>\n",
       "      <td>0.022625</td>\n",
       "      <td>0.011971</td>\n",
       "      <td>0.003478</td>\n",
       "    </tr>\n",
       "    <tr>\n",
       "      <th>2015-01-08 00:00:00</th>\n",
       "      <td>0.001072</td>\n",
       "      <td>-0.008441</td>\n",
       "      <td>-0.020127</td>\n",
       "      <td>-0.014050</td>\n",
       "      <td>-0.012286</td>\n",
       "    </tr>\n",
       "  </tbody>\n",
       "</table>\n",
       "</div>"
      ],
      "text/plain": [
       "                         AAPL      MSFT       CVX        GE     GOOGL\n",
       "2015-01-02 00:00:00 -0.028576 -0.009238 -0.040792 -0.018527 -0.019238\n",
       "2015-01-05 00:00:00  0.000094 -0.014786 -0.000463 -0.021780 -0.024989\n",
       "2015-01-06 00:00:00  0.013925  0.012625 -0.000834  0.000415 -0.002945\n",
       "2015-01-07 00:00:00  0.037702  0.028994  0.022625  0.011971  0.003478\n",
       "2015-01-08 00:00:00  0.001072 -0.008441 -0.020127 -0.014050 -0.012286"
      ]
     },
     "execution_count": 4,
     "metadata": {},
     "output_type": "execute_result"
    }
   ],
   "source": [
    "stock_returns = invs.stock_invariants(stock_data)\n",
    "stock_returns.head()"
   ]
  },
  {
   "cell_type": "code",
   "execution_count": 5,
   "metadata": {},
   "outputs": [
    {
     "data": {
      "text/plain": [
       "AAPL     0.279237\n",
       "MSFT     0.280026\n",
       "CVX     -0.004645\n",
       "GE      -0.111407\n",
       "GOOGL    0.199739\n",
       "dtype: float64"
      ]
     },
     "execution_count": 5,
     "metadata": {},
     "output_type": "execute_result"
    }
   ],
   "source": [
    "exp_returns = stock_returns.mean() * 252\n",
    "exp_returns"
   ]
  },
  {
   "cell_type": "markdown",
   "metadata": {},
   "source": [
    "### Get Covariance Matrix"
   ]
  },
  {
   "cell_type": "code",
   "execution_count": 14,
   "metadata": {},
   "outputs": [
    {
     "data": {
      "text/html": [
       "<div>\n",
       "<style scoped>\n",
       "    .dataframe tbody tr th:only-of-type {\n",
       "        vertical-align: middle;\n",
       "    }\n",
       "\n",
       "    .dataframe tbody tr th {\n",
       "        vertical-align: top;\n",
       "    }\n",
       "\n",
       "    .dataframe thead th {\n",
       "        text-align: right;\n",
       "    }\n",
       "</style>\n",
       "<table border=\"1\" class=\"dataframe\">\n",
       "  <thead>\n",
       "    <tr style=\"text-align: right;\">\n",
       "      <th></th>\n",
       "      <th>AAPL</th>\n",
       "      <th>MSFT</th>\n",
       "      <th>CVX</th>\n",
       "      <th>GE</th>\n",
       "      <th>GOOGL</th>\n",
       "    </tr>\n",
       "  </thead>\n",
       "  <tbody>\n",
       "    <tr>\n",
       "      <th>AAPL</th>\n",
       "      <td>0.087979</td>\n",
       "      <td>0.056670</td>\n",
       "      <td>0.038897</td>\n",
       "      <td>0.038112</td>\n",
       "      <td>0.048528</td>\n",
       "    </tr>\n",
       "    <tr>\n",
       "      <th>MSFT</th>\n",
       "      <td>0.056670</td>\n",
       "      <td>0.077349</td>\n",
       "      <td>0.042147</td>\n",
       "      <td>0.037390</td>\n",
       "      <td>0.054574</td>\n",
       "    </tr>\n",
       "    <tr>\n",
       "      <th>CVX</th>\n",
       "      <td>0.038897</td>\n",
       "      <td>0.042147</td>\n",
       "      <td>0.104277</td>\n",
       "      <td>0.063808</td>\n",
       "      <td>0.036403</td>\n",
       "    </tr>\n",
       "    <tr>\n",
       "      <th>GE</th>\n",
       "      <td>0.038112</td>\n",
       "      <td>0.037390</td>\n",
       "      <td>0.063808</td>\n",
       "      <td>0.140668</td>\n",
       "      <td>0.035049</td>\n",
       "    </tr>\n",
       "    <tr>\n",
       "      <th>GOOGL</th>\n",
       "      <td>0.048528</td>\n",
       "      <td>0.054574</td>\n",
       "      <td>0.036403</td>\n",
       "      <td>0.035049</td>\n",
       "      <td>0.071333</td>\n",
       "    </tr>\n",
       "  </tbody>\n",
       "</table>\n",
       "</div>"
      ],
      "text/plain": [
       "           AAPL      MSFT       CVX        GE     GOOGL\n",
       "AAPL   0.087979  0.056670  0.038897  0.038112  0.048528\n",
       "MSFT   0.056670  0.077349  0.042147  0.037390  0.054574\n",
       "CVX    0.038897  0.042147  0.104277  0.063808  0.036403\n",
       "GE     0.038112  0.037390  0.063808  0.140668  0.035049\n",
       "GOOGL  0.048528  0.054574  0.036403  0.035049  0.071333"
      ]
     },
     "execution_count": 14,
     "metadata": {},
     "output_type": "execute_result"
    }
   ],
   "source": [
    "riskmodel = moments.RiskModel(tickers)\n",
    "\n",
    "stock_cov = riskmodel.avg_hist_cov(stock_data)\n",
    "stock_cov"
   ]
  },
  {
   "cell_type": "markdown",
   "metadata": {},
   "source": [
    "### Solve Optimisation Problem"
   ]
  },
  {
   "cell_type": "code",
   "execution_count": 15,
   "metadata": {},
   "outputs": [
    {
     "name": "stdout",
     "output_type": "stream",
     "text": [
      "===============================================================================\n",
      "                                     CVXPY                                     \n",
      "                                    v1.1.15                                    \n",
      "===============================================================================\n",
      "(CVXPY) Oct 08 05:07:44 AM: Your problem has 5 variables, 4 constraints, and 0 parameters.\n",
      "(CVXPY) Oct 08 05:07:44 AM: It is compliant with the following grammars: DCP, DQCP\n",
      "(CVXPY) Oct 08 05:07:44 AM: (If you need to solve this problem multiple times, but with different data, consider using parameters.)\n",
      "(CVXPY) Oct 08 05:07:44 AM: CVXPY will first compile your problem; then, it will invoke a numerical solver to obtain a solution.\n",
      "-------------------------------------------------------------------------------\n",
      "                                  Compilation                                  \n",
      "-------------------------------------------------------------------------------\n",
      "(CVXPY) Oct 08 05:07:44 AM: Compiling problem (target solver=OSQP).\n",
      "(CVXPY) Oct 08 05:07:44 AM: Reduction chain: CvxAttr2Constr -> Qp2SymbolicQp -> QpMatrixStuffing -> OSQP\n",
      "(CVXPY) Oct 08 05:07:44 AM: Applying reduction CvxAttr2Constr\n",
      "(CVXPY) Oct 08 05:07:44 AM: Applying reduction Qp2SymbolicQp\n",
      "(CVXPY) Oct 08 05:07:44 AM: Applying reduction QpMatrixStuffing\n",
      "(CVXPY) Oct 08 05:07:44 AM: Applying reduction OSQP\n",
      "(CVXPY) Oct 08 05:07:44 AM: Finished problem compilation (took 1.021e-02 seconds).\n",
      "-------------------------------------------------------------------------------\n",
      "                                Numerical solver                               \n",
      "-------------------------------------------------------------------------------\n",
      "(CVXPY) Oct 08 05:07:44 AM: Invoking solver OSQP  to obtain a solution.\n",
      "-----------------------------------------------------------------\n",
      "           OSQP v0.6.2  -  Operator Splitting QP Solver\n",
      "              (c) Bartolomeo Stellato,  Goran Banjac\n",
      "        University of Oxford  -  Stanford University 2021\n",
      "-----------------------------------------------------------------\n",
      "problem:  variables n = 5, constraints m = 12\n",
      "          nnz(P) + nnz(A) = 35\n",
      "settings: linear system solver = qdldl,\n",
      "          eps_abs = 1.0e-05, eps_rel = 1.0e-05,\n",
      "          eps_prim_inf = 1.0e-04, eps_dual_inf = 1.0e-04,\n",
      "          rho = 1.00e-01 (adaptive),\n",
      "          sigma = 1.00e-06, alpha = 1.60, max_iter = 10000\n",
      "          check_termination: on (interval 25),\n",
      "          scaling: on, scaled_termination: off\n",
      "          warm start: on, polish: on, time_limit: off\n",
      "\n",
      "iter   objective    pri res    dua res    rho        time\n",
      "   1   0.0000e+00   1.00e+00   1.00e+02   1.00e-01   1.07e-04s\n",
      "  50   5.3840e-02   2.11e-10   4.03e-09   1.00e-01   1.80e-04s\n",
      "plsh   5.3840e-02   0.00e+00   2.78e-17   --------   3.83e-04s\n",
      "\n",
      "status:               solved\n",
      "solution polish:      successful\n",
      "number of iterations: 50\n",
      "optimal objective:    0.0538\n",
      "run time:             3.83e-04s\n",
      "optimal rho estimate: 7.51e-03\n",
      "\n",
      "-------------------------------------------------------------------------------\n",
      "                                    Summary                                    \n",
      "-------------------------------------------------------------------------------\n",
      "(CVXPY) Oct 08 05:07:44 AM: Problem status: optimal\n",
      "(CVXPY) Oct 08 05:07:44 AM: Optimal value: nan\n",
      "(CVXPY) Oct 08 05:07:44 AM: Compilation took 1.021e-02 seconds\n",
      "(CVXPY) Oct 08 05:07:44 AM: Solver (including time spent in interface) took 2.992e-03 seconds\n"
     ]
    },
    {
     "data": {
      "text/plain": [
       "AAPL     0.182566\n",
       "MSFT     0.143655\n",
       "CVX      0.190582\n",
       "GE       0.117543\n",
       "GOOGL    0.365654\n",
       "dtype: float64"
      ]
     },
     "execution_count": 15,
     "metadata": {},
     "output_type": "execute_result"
    }
   ],
   "source": [
    "optimiser = Optimiser(tickers, exp_returns, stock_cov)\n",
    "weights = optimiser.mean_variance(threshold=0.1)\n",
    "# weights = optimiser.max_sharpe()\n",
    "\n",
    "# min_pos = lambda x: x >= 0.1*np.ones(len(tickers))\n",
    "# optimiser.add_constraint(min_pos)\n",
    "\n",
    "# weights = optimiser.solve(objective='max_sharpe')\n",
    "weights"
   ]
  },
  {
   "cell_type": "code",
   "execution_count": 24,
   "metadata": {},
   "outputs": [
    {
     "name": "stdout",
     "output_type": "stream",
     "text": [
      "Annual Return: 15.026\n",
      "Annual Volatility: 23.203\n",
      "Annual Sharpe: 0.561\n"
     ]
    }
   ],
   "source": [
    "optimiser.weight_tearsheet(weights)"
   ]
  },
  {
   "cell_type": "code",
   "execution_count": null,
   "metadata": {},
   "outputs": [],
   "source": []
  }
 ],
 "metadata": {
  "kernelspec": {
   "display_name": "Python 3 (ipykernel)",
   "language": "python",
   "name": "python3"
  },
  "language_info": {
   "codemirror_mode": {
    "name": "ipython",
    "version": 3
   },
   "file_extension": ".py",
   "mimetype": "text/x-python",
   "name": "python",
   "nbconvert_exporter": "python",
   "pygments_lexer": "ipython3",
   "version": "3.9.7"
  }
 },
 "nbformat": 4,
 "nbformat_minor": 4
}
